{
 "cells": [
  {
   "cell_type": "markdown",
   "metadata": {},
   "source": [
    "# iRaPCA-v1.0 Demo Notebook\n",
    "This notebook demonstrates how to use the iRaPCA Clustering code locally.\n",
    "\n",
    "Make sure you have cloned the repository and installed the required dependencies."
   ]
  },
  {
   "cell_type": "code",
   "execution_count": 2,
   "metadata": {
    "scrolled": true
   },
   "outputs": [
    {
     "name": "stdout",
     "output_type": "stream",
     "text": [
      "Requirement already satisfied: streamlit in /opt/anaconda3/lib/python3.11/site-packages (from -r requirements.txt (line 1)) (1.30.0)\n",
      "Collecting streamlit_tags (from -r requirements.txt (line 2))\n",
      "  Downloading streamlit_tags-1.2.8-py3-none-any.whl.metadata (5.7 kB)\n",
      "Requirement already satisfied: rdkit-pypi in /opt/anaconda3/lib/python3.11/site-packages (from -r requirements.txt (line 3)) (2022.9.5)\n",
      "Collecting molvs (from -r requirements.txt (line 4))\n",
      "  Downloading MolVS-0.1.1.tar.gz (61 kB)\n",
      "\u001b[2K     \u001b[90m━━━━━━━━━━━━━━━━━━━━━━━━━━━━━━━━━━━━━━━━\u001b[0m \u001b[32m61.9/61.9 kB\u001b[0m \u001b[31m3.1 MB/s\u001b[0m eta \u001b[36m0:00:00\u001b[0m\n",
      "\u001b[?25h  Preparing metadata (setup.py) ... \u001b[?25ldone\n",
      "\u001b[?25hCollecting mordred (from -r requirements.txt (line 5))\n",
      "  Downloading mordred-1.2.0.tar.gz (128 kB)\n",
      "\u001b[2K     \u001b[90m━━━━━━━━━━━━━━━━━━━━━━━━━━━━━━━━━━━━━━━\u001b[0m \u001b[32m128.8/128.8 kB\u001b[0m \u001b[31m6.5 MB/s\u001b[0m eta \u001b[36m0:00:00\u001b[0m\n",
      "\u001b[?25h  Preparing metadata (setup.py) ... \u001b[?25ldone\n",
      "\u001b[?25hRequirement already satisfied: scikit-learn in /opt/anaconda3/lib/python3.11/site-packages (from -r requirements.txt (line 6)) (1.2.2)\n",
      "Collecting validclust (from -r requirements.txt (line 7))\n",
      "  Downloading validclust-0.1.1-py2.py3-none-any.whl.metadata (4.5 kB)\n",
      "Requirement already satisfied: plotly in /opt/anaconda3/lib/python3.11/site-packages (from -r requirements.txt (line 8)) (5.9.0)\n",
      "Requirement already satisfied: matplotlib in /opt/anaconda3/lib/python3.11/site-packages (from -r requirements.txt (line 9)) (3.8.0)\n",
      "Collecting protobuf~=3.19.0 (from -r requirements.txt (line 10))\n",
      "  Downloading protobuf-3.19.6-py2.py3-none-any.whl.metadata (828 bytes)\n",
      "Requirement already satisfied: altair<6,>=4.0 in /opt/anaconda3/lib/python3.11/site-packages (from streamlit->-r requirements.txt (line 1)) (5.0.1)\n",
      "Requirement already satisfied: blinker<2,>=1.0.0 in /opt/anaconda3/lib/python3.11/site-packages (from streamlit->-r requirements.txt (line 1)) (1.6.2)\n",
      "Requirement already satisfied: cachetools<6,>=4.0 in /opt/anaconda3/lib/python3.11/site-packages (from streamlit->-r requirements.txt (line 1)) (4.2.2)\n",
      "Requirement already satisfied: click<9,>=7.0 in /opt/anaconda3/lib/python3.11/site-packages (from streamlit->-r requirements.txt (line 1)) (8.1.7)\n",
      "Requirement already satisfied: importlib-metadata<8,>=1.4 in /opt/anaconda3/lib/python3.11/site-packages (from streamlit->-r requirements.txt (line 1)) (7.0.1)\n",
      "Requirement already satisfied: numpy<2,>=1.19.3 in /opt/anaconda3/lib/python3.11/site-packages (from streamlit->-r requirements.txt (line 1)) (1.26.4)\n",
      "Requirement already satisfied: packaging<24,>=16.8 in /opt/anaconda3/lib/python3.11/site-packages (from streamlit->-r requirements.txt (line 1)) (23.1)\n",
      "Requirement already satisfied: pandas<3,>=1.3.0 in /opt/anaconda3/lib/python3.11/site-packages (from streamlit->-r requirements.txt (line 1)) (2.1.4)\n",
      "Requirement already satisfied: pillow<11,>=7.1.0 in /opt/anaconda3/lib/python3.11/site-packages (from streamlit->-r requirements.txt (line 1)) (10.2.0)\n",
      "INFO: pip is looking at multiple versions of streamlit to determine which version is compatible with other requirements. This could take a while.\n",
      "Collecting streamlit (from -r requirements.txt (line 1))\n",
      "  Downloading streamlit-1.45.1-py3-none-any.whl.metadata (8.9 kB)\n",
      "  Downloading streamlit-1.45.0-py3-none-any.whl.metadata (8.9 kB)\n",
      "  Downloading streamlit-1.44.1-py3-none-any.whl.metadata (8.9 kB)\n",
      "  Downloading streamlit-1.44.0-py3-none-any.whl.metadata (8.9 kB)\n",
      "  Downloading streamlit-1.43.2-py2.py3-none-any.whl.metadata (8.9 kB)\n",
      "  Downloading streamlit-1.43.1-py2.py3-none-any.whl.metadata (8.9 kB)\n",
      "  Downloading streamlit-1.43.0-py2.py3-none-any.whl.metadata (8.9 kB)\n",
      "INFO: pip is still looking at multiple versions of streamlit to determine which version is compatible with other requirements. This could take a while.\n",
      "  Downloading streamlit-1.42.2-py2.py3-none-any.whl.metadata (8.9 kB)\n",
      "  Downloading streamlit-1.42.1-py2.py3-none-any.whl.metadata (8.9 kB)\n",
      "  Downloading streamlit-1.42.0-py2.py3-none-any.whl.metadata (8.9 kB)\n",
      "  Downloading streamlit-1.41.1-py2.py3-none-any.whl.metadata (8.5 kB)\n",
      "  Downloading streamlit-1.41.0-py2.py3-none-any.whl.metadata (8.5 kB)\n",
      "INFO: This is taking longer than usual. You might need to provide the dependency resolver with stricter constraints to reduce runtime. See https://pip.pypa.io/warnings/backtracking for guidance. If you want to abort this run, press Ctrl + C.\n",
      "  Downloading streamlit-1.40.2-py2.py3-none-any.whl.metadata (8.4 kB)\n",
      "  Downloading streamlit-1.40.1-py2.py3-none-any.whl.metadata (8.5 kB)\n",
      "  Downloading streamlit-1.40.0-py2.py3-none-any.whl.metadata (8.5 kB)\n",
      "  Downloading streamlit-1.39.1-py2.py3-none-any.whl.metadata (8.6 kB)\n",
      "  Downloading streamlit-1.39.0-py2.py3-none-any.whl.metadata (8.5 kB)\n",
      "  Downloading streamlit-1.38.0-py2.py3-none-any.whl.metadata (8.5 kB)\n",
      "  Downloading streamlit-1.37.1-py2.py3-none-any.whl.metadata (8.5 kB)\n",
      "  Downloading streamlit-1.37.0-py2.py3-none-any.whl.metadata (8.5 kB)\n",
      "  Downloading streamlit-1.36.0-py2.py3-none-any.whl.metadata (8.5 kB)\n",
      "  Downloading streamlit-1.35.0-py2.py3-none-any.whl.metadata (8.5 kB)\n",
      "  Downloading streamlit-1.34.0-py2.py3-none-any.whl.metadata (8.5 kB)\n",
      "  Downloading streamlit-1.33.0-py2.py3-none-any.whl.metadata (8.5 kB)\n",
      "  Downloading streamlit-1.32.2-py2.py3-none-any.whl.metadata (8.5 kB)\n",
      "  Downloading streamlit-1.32.1-py2.py3-none-any.whl.metadata (8.5 kB)\n",
      "  Downloading streamlit-1.32.0-py2.py3-none-any.whl.metadata (8.5 kB)\n",
      "  Downloading streamlit-1.31.1-py2.py3-none-any.whl.metadata (8.1 kB)\n",
      "  Downloading streamlit-1.31.0-py2.py3-none-any.whl.metadata (8.1 kB)\n",
      "  Downloading streamlit-1.29.0-py2.py3-none-any.whl.metadata (8.2 kB)\n",
      "Collecting importlib-metadata<7,>=1.4 (from streamlit->-r requirements.txt (line 1))\n",
      "  Downloading importlib_metadata-6.11.0-py3-none-any.whl.metadata (4.9 kB)\n",
      "Collecting streamlit (from -r requirements.txt (line 1))\n",
      "  Downloading streamlit-1.28.2-py2.py3-none-any.whl.metadata (8.1 kB)\n",
      "  Downloading streamlit-1.28.1-py2.py3-none-any.whl.metadata (8.1 kB)\n",
      "  Downloading streamlit-1.28.0-py2.py3-none-any.whl.metadata (8.1 kB)\n",
      "  Downloading streamlit-1.27.2-py2.py3-none-any.whl.metadata (8.1 kB)\n",
      "  Downloading streamlit-1.27.1-py2.py3-none-any.whl.metadata (8.0 kB)\n",
      "  Downloading streamlit-1.27.0-py2.py3-none-any.whl.metadata (8.0 kB)\n",
      "Collecting pillow<10,>=7.1.0 (from streamlit->-r requirements.txt (line 1))\n",
      "  Downloading Pillow-9.5.0-cp311-cp311-macosx_11_0_arm64.whl.metadata (9.5 kB)\n",
      "Collecting streamlit (from -r requirements.txt (line 1))\n",
      "  Downloading streamlit-1.26.1-py2.py3-none-any.whl.metadata (8.0 kB)\n",
      "  Downloading streamlit-1.26.0-py2.py3-none-any.whl.metadata (8.0 kB)\n",
      "  Downloading streamlit-1.25.0-py2.py3-none-any.whl.metadata (8.1 kB)\n",
      "  Downloading streamlit-1.24.1-py2.py3-none-any.whl.metadata (8.0 kB)\n",
      "  Downloading streamlit-1.24.0-py2.py3-none-any.whl.metadata (8.0 kB)\n",
      "  Downloading streamlit-1.23.1-py2.py3-none-any.whl.metadata (7.4 kB)\n",
      "  Downloading streamlit-1.23.0-py2.py3-none-any.whl.metadata (7.4 kB)\n",
      "  Downloading streamlit-1.22.0-py2.py3-none-any.whl.metadata (7.3 kB)\n",
      "Collecting altair<5,>=3.2.0 (from streamlit->-r requirements.txt (line 1))\n",
      "  Downloading altair-4.2.2-py3-none-any.whl.metadata (13 kB)\n",
      "Requirement already satisfied: pyarrow>=4.0 in /opt/anaconda3/lib/python3.11/site-packages (from streamlit->-r requirements.txt (line 1)) (14.0.2)\n",
      "Collecting pympler>=0.9 (from streamlit->-r requirements.txt (line 1))\n",
      "  Downloading Pympler-1.1-py3-none-any.whl.metadata (3.6 kB)\n",
      "Requirement already satisfied: python-dateutil in /opt/anaconda3/lib/python3.11/site-packages (from streamlit->-r requirements.txt (line 1)) (2.8.2)\n",
      "Requirement already satisfied: requests>=2.4 in /opt/anaconda3/lib/python3.11/site-packages (from streamlit->-r requirements.txt (line 1)) (2.31.0)\n",
      "Requirement already satisfied: rich>=10.11.0 in /opt/anaconda3/lib/python3.11/site-packages (from streamlit->-r requirements.txt (line 1)) (13.3.5)\n",
      "Requirement already satisfied: tenacity<9,>=8.0.0 in /opt/anaconda3/lib/python3.11/site-packages (from streamlit->-r requirements.txt (line 1)) (8.2.2)\n",
      "Requirement already satisfied: toml in /opt/anaconda3/lib/python3.11/site-packages (from streamlit->-r requirements.txt (line 1)) (0.10.2)\n",
      "Requirement already satisfied: typing-extensions>=3.10.0.0 in /opt/anaconda3/lib/python3.11/site-packages (from streamlit->-r requirements.txt (line 1)) (4.9.0)\n",
      "Requirement already satisfied: tzlocal>=1.1 in /opt/anaconda3/lib/python3.11/site-packages (from streamlit->-r requirements.txt (line 1)) (2.1)\n",
      "Requirement already satisfied: validators>=0.2 in /opt/anaconda3/lib/python3.11/site-packages (from streamlit->-r requirements.txt (line 1)) (0.18.2)\n",
      "Requirement already satisfied: gitpython!=3.1.19 in /opt/anaconda3/lib/python3.11/site-packages (from streamlit->-r requirements.txt (line 1)) (3.1.37)\n",
      "Requirement already satisfied: pydeck>=0.1.dev5 in /opt/anaconda3/lib/python3.11/site-packages (from streamlit->-r requirements.txt (line 1)) (0.8.0)\n",
      "Requirement already satisfied: tornado>=6.0.3 in /opt/anaconda3/lib/python3.11/site-packages (from streamlit->-r requirements.txt (line 1)) (6.3.3)\n",
      "Requirement already satisfied: six in /opt/anaconda3/lib/python3.11/site-packages (from molvs->-r requirements.txt (line 4)) (1.16.0)\n",
      "Collecting networkx==2.* (from mordred->-r requirements.txt (line 5))\n",
      "  Downloading networkx-2.8.8-py3-none-any.whl.metadata (5.1 kB)\n",
      "Requirement already satisfied: scipy>=1.3.2 in /opt/anaconda3/lib/python3.11/site-packages (from scikit-learn->-r requirements.txt (line 6)) (1.11.4)\n",
      "Requirement already satisfied: joblib>=1.1.1 in /opt/anaconda3/lib/python3.11/site-packages (from scikit-learn->-r requirements.txt (line 6)) (1.2.0)\n",
      "Requirement already satisfied: threadpoolctl>=2.0.0 in /opt/anaconda3/lib/python3.11/site-packages (from scikit-learn->-r requirements.txt (line 6)) (2.2.0)\n",
      "Requirement already satisfied: seaborn in /opt/anaconda3/lib/python3.11/site-packages (from validclust->-r requirements.txt (line 7)) (0.12.2)\n",
      "Requirement already satisfied: contourpy>=1.0.1 in /opt/anaconda3/lib/python3.11/site-packages (from matplotlib->-r requirements.txt (line 9)) (1.2.0)\n",
      "Requirement already satisfied: cycler>=0.10 in /opt/anaconda3/lib/python3.11/site-packages (from matplotlib->-r requirements.txt (line 9)) (0.11.0)\n",
      "Requirement already satisfied: fonttools>=4.22.0 in /opt/anaconda3/lib/python3.11/site-packages (from matplotlib->-r requirements.txt (line 9)) (4.25.0)\n",
      "Requirement already satisfied: kiwisolver>=1.0.1 in /opt/anaconda3/lib/python3.11/site-packages (from matplotlib->-r requirements.txt (line 9)) (1.4.4)\n",
      "Requirement already satisfied: pyparsing>=2.3.1 in /opt/anaconda3/lib/python3.11/site-packages (from matplotlib->-r requirements.txt (line 9)) (3.0.9)\n",
      "Requirement already satisfied: entrypoints in /opt/anaconda3/lib/python3.11/site-packages (from altair<5,>=3.2.0->streamlit->-r requirements.txt (line 1)) (0.4)\n",
      "Requirement already satisfied: jinja2 in /opt/anaconda3/lib/python3.11/site-packages (from altair<5,>=3.2.0->streamlit->-r requirements.txt (line 1)) (3.1.3)\n",
      "Requirement already satisfied: jsonschema>=3.0 in /opt/anaconda3/lib/python3.11/site-packages (from altair<5,>=3.2.0->streamlit->-r requirements.txt (line 1)) (4.19.2)\n",
      "Requirement already satisfied: toolz in /opt/anaconda3/lib/python3.11/site-packages (from altair<5,>=3.2.0->streamlit->-r requirements.txt (line 1)) (0.12.0)\n",
      "Requirement already satisfied: gitdb<5,>=4.0.1 in /opt/anaconda3/lib/python3.11/site-packages (from gitpython!=3.1.19->streamlit->-r requirements.txt (line 1)) (4.0.7)\n",
      "Requirement already satisfied: zipp>=0.5 in /opt/anaconda3/lib/python3.11/site-packages (from importlib-metadata<8,>=1.4->streamlit->-r requirements.txt (line 1)) (3.17.0)\n",
      "Requirement already satisfied: pytz>=2020.1 in /opt/anaconda3/lib/python3.11/site-packages (from pandas<3,>=1.3.0->streamlit->-r requirements.txt (line 1)) (2023.3.post1)\n",
      "Requirement already satisfied: tzdata>=2022.1 in /opt/anaconda3/lib/python3.11/site-packages (from pandas<3,>=1.3.0->streamlit->-r requirements.txt (line 1)) (2023.3)\n",
      "Requirement already satisfied: charset-normalizer<4,>=2 in /opt/anaconda3/lib/python3.11/site-packages (from requests>=2.4->streamlit->-r requirements.txt (line 1)) (2.0.4)\n",
      "Requirement already satisfied: idna<4,>=2.5 in /opt/anaconda3/lib/python3.11/site-packages (from requests>=2.4->streamlit->-r requirements.txt (line 1)) (3.4)\n",
      "Requirement already satisfied: urllib3<3,>=1.21.1 in /opt/anaconda3/lib/python3.11/site-packages (from requests>=2.4->streamlit->-r requirements.txt (line 1)) (2.0.7)\n",
      "Requirement already satisfied: certifi>=2017.4.17 in /opt/anaconda3/lib/python3.11/site-packages (from requests>=2.4->streamlit->-r requirements.txt (line 1)) (2024.8.30)\n",
      "Requirement already satisfied: markdown-it-py<3.0.0,>=2.2.0 in /opt/anaconda3/lib/python3.11/site-packages (from rich>=10.11.0->streamlit->-r requirements.txt (line 1)) (2.2.0)\n",
      "Requirement already satisfied: pygments<3.0.0,>=2.13.0 in /opt/anaconda3/lib/python3.11/site-packages (from rich>=10.11.0->streamlit->-r requirements.txt (line 1)) (2.15.1)\n",
      "Requirement already satisfied: decorator>=3.4.0 in /opt/anaconda3/lib/python3.11/site-packages (from validators>=0.2->streamlit->-r requirements.txt (line 1)) (5.1.1)\n",
      "Requirement already satisfied: smmap<5,>=3.0.1 in /opt/anaconda3/lib/python3.11/site-packages (from gitdb<5,>=4.0.1->gitpython!=3.1.19->streamlit->-r requirements.txt (line 1)) (4.0.0)\n",
      "Requirement already satisfied: MarkupSafe>=2.0 in /opt/anaconda3/lib/python3.11/site-packages (from jinja2->altair<5,>=3.2.0->streamlit->-r requirements.txt (line 1)) (2.1.3)\n",
      "Requirement already satisfied: attrs>=22.2.0 in /opt/anaconda3/lib/python3.11/site-packages (from jsonschema>=3.0->altair<5,>=3.2.0->streamlit->-r requirements.txt (line 1)) (23.1.0)\n",
      "Requirement already satisfied: jsonschema-specifications>=2023.03.6 in /opt/anaconda3/lib/python3.11/site-packages (from jsonschema>=3.0->altair<5,>=3.2.0->streamlit->-r requirements.txt (line 1)) (2023.7.1)\n",
      "Requirement already satisfied: referencing>=0.28.4 in /opt/anaconda3/lib/python3.11/site-packages (from jsonschema>=3.0->altair<5,>=3.2.0->streamlit->-r requirements.txt (line 1)) (0.30.2)\n",
      "Requirement already satisfied: rpds-py>=0.7.1 in /opt/anaconda3/lib/python3.11/site-packages (from jsonschema>=3.0->altair<5,>=3.2.0->streamlit->-r requirements.txt (line 1)) (0.10.6)\n",
      "Requirement already satisfied: mdurl~=0.1 in /opt/anaconda3/lib/python3.11/site-packages (from markdown-it-py<3.0.0,>=2.2.0->rich>=10.11.0->streamlit->-r requirements.txt (line 1)) (0.1.0)\n",
      "Downloading streamlit-1.22.0-py2.py3-none-any.whl (8.9 MB)\n",
      "\u001b[2K   \u001b[90m━━━━━━━━━━━━━━━━━━━━━━━━━━━━━━━━━━━━━━━━\u001b[0m \u001b[32m8.9/8.9 MB\u001b[0m \u001b[31m17.1 MB/s\u001b[0m eta \u001b[36m0:00:00\u001b[0ma \u001b[36m0:00:01\u001b[0m\n",
      "\u001b[?25hDownloading streamlit_tags-1.2.8-py3-none-any.whl (2.7 MB)\n",
      "\u001b[2K   \u001b[90m━━━━━━━━━━━━━━━━━━━━━━━━━━━━━━━━━━━━━━━━\u001b[0m \u001b[32m2.7/2.7 MB\u001b[0m \u001b[31m21.3 MB/s\u001b[0m eta \u001b[36m0:00:00\u001b[0ma \u001b[36m0:00:01\u001b[0m\n",
      "\u001b[?25hDownloading networkx-2.8.8-py3-none-any.whl (2.0 MB)\n",
      "\u001b[2K   \u001b[90m━━━━━━━━━━━━━━━━━━━━━━━━━━━━━━━━━━━━━━━━\u001b[0m \u001b[32m2.0/2.0 MB\u001b[0m \u001b[31m22.5 MB/s\u001b[0m eta \u001b[36m0:00:00\u001b[0ma \u001b[36m0:00:01\u001b[0m\n",
      "\u001b[?25hDownloading validclust-0.1.1-py2.py3-none-any.whl (8.1 kB)\n",
      "Downloading protobuf-3.19.6-py2.py3-none-any.whl (162 kB)\n",
      "\u001b[2K   \u001b[90m━━━━━━━━━━━━━━━━━━━━━━━━━━━━━━━━━━━━━━━━\u001b[0m \u001b[32m162.6/162.6 kB\u001b[0m \u001b[31m13.7 MB/s\u001b[0m eta \u001b[36m0:00:00\u001b[0m\n",
      "\u001b[?25hDownloading altair-4.2.2-py3-none-any.whl (813 kB)\n",
      "\u001b[2K   \u001b[90m━━━━━━━━━━━━━━━━━━━━━━━━━━━━━━━━━━━━━━━━\u001b[0m \u001b[32m813.6/813.6 kB\u001b[0m \u001b[31m20.4 MB/s\u001b[0m eta \u001b[36m0:00:00\u001b[0m00:01\u001b[0m\n",
      "\u001b[?25hDownloading Pympler-1.1-py3-none-any.whl (165 kB)\n",
      "\u001b[2K   \u001b[90m━━━━━━━━━━━━━━━━━━━━━━━━━━━━━━━━━━━━━━━━\u001b[0m \u001b[32m165.8/165.8 kB\u001b[0m \u001b[31m14.2 MB/s\u001b[0m eta \u001b[36m0:00:00\u001b[0m\n",
      "\u001b[?25hBuilding wheels for collected packages: molvs, mordred\n",
      "  Building wheel for molvs (setup.py) ... \u001b[?25ldone\n",
      "\u001b[?25h  Created wheel for molvs: filename=MolVS-0.1.1-py3-none-any.whl size=32373 sha256=c7d8292af3316993fcc8137394bc5ba8502bf966b877541647e60db11a0b8923\n",
      "  Stored in directory: /Users/alexwang/Library/Caches/pip/wheels/26/62/a4/147e264c789d9a4e8495f2c3d60f702425761f875bcfdf44e0\n",
      "  Building wheel for mordred (setup.py) ... \u001b[?25ldone\n",
      "\u001b[?25h  Created wheel for mordred: filename=mordred-1.2.0-py3-none-any.whl size=176721 sha256=2dd69ecc8075db3d018f4f213873a008c23dba46438758fca76b34a4b16ee191\n",
      "  Stored in directory: /Users/alexwang/Library/Caches/pip/wheels/8b/30/0b/84e3f6775306e74cf5957ee4d16b10bf3927dcec44cc23d5f2\n",
      "Successfully built molvs mordred\n",
      "Installing collected packages: pympler, protobuf, networkx, molvs, mordred, validclust, altair, streamlit, streamlit_tags\n",
      "  Attempting uninstall: protobuf\n",
      "    Found existing installation: protobuf 3.20.3\n",
      "    Uninstalling protobuf-3.20.3:\n",
      "      Successfully uninstalled protobuf-3.20.3\n",
      "  Attempting uninstall: networkx\n",
      "    Found existing installation: networkx 3.1\n",
      "    Uninstalling networkx-3.1:\n",
      "      Successfully uninstalled networkx-3.1\n",
      "  Attempting uninstall: altair\n",
      "    Found existing installation: altair 5.0.1\n",
      "    Uninstalling altair-5.0.1:\n",
      "      Successfully uninstalled altair-5.0.1\n",
      "  Attempting uninstall: streamlit\n",
      "    Found existing installation: streamlit 1.30.0\n",
      "    Uninstalling streamlit-1.30.0:\n",
      "      Successfully uninstalled streamlit-1.30.0\n",
      "\u001b[31mERROR: pip's dependency resolver does not currently take into account all the packages that are installed. This behaviour is the source of the following dependency conflicts.\n",
      "tensorflow 2.17.0 requires protobuf!=4.21.0,!=4.21.1,!=4.21.2,!=4.21.3,!=4.21.4,!=4.21.5,<5.0.0dev,>=3.20.3, but you have protobuf 3.19.6 which is incompatible.\u001b[0m\u001b[31m\n",
      "\u001b[0mSuccessfully installed altair-4.2.2 molvs-0.1.1 mordred-1.2.0 networkx-2.8.8 protobuf-3.19.6 pympler-1.1 streamlit-1.22.0 streamlit_tags-1.2.8 validclust-0.1.1\n"
     ]
    }
   ],
   "source": [
    "# Install requirements if needed (uncomment if necessary)\n",
    "!pip install -r requirements.txt"
   ]
  },
  {
   "cell_type": "code",
   "execution_count": 3,
   "metadata": {},
   "outputs": [],
   "source": [
    "# Import necessary modules\n",
    "import numpy as np\n",
    "import pandas as pd\n",
    "# Add more as needed based on the code in the repo\n",
    "\n",
    "# If iRaPCA is in a subdirectory, you may need to adjust sys.path\n",
    "import sys\n",
    "# sys.path.append('.')  # Adjust if iRaPCA code is in a subfolder"
   ]
  },
  {
   "cell_type": "markdown",
   "metadata": {},
   "source": [
    "## Load or Generate Example Data"
   ]
  },
  {
   "cell_type": "code",
   "execution_count": 4,
   "metadata": {},
   "outputs": [
    {
     "name": "stdout",
     "output_type": "stream",
     "text": [
      "(300, 5)\n"
     ]
    }
   ],
   "source": [
    "# Example: Create synthetic data\n",
    "from sklearn.datasets import make_blobs\n",
    "\n",
    "X, y_true = make_blobs(n_samples=300, centers=4, n_features=5, random_state=42)\n",
    "print(X.shape)\n",
    "# Or load your own data\n",
    "# X = pd.read_csv('your_data.csv').values"
   ]
  },
  {
   "cell_type": "code",
   "execution_count": 5,
   "metadata": {},
   "outputs": [
    {
     "data": {
      "text/plain": [
       "array([[-7.00540043, -3.63616098, -0.34021842,  0.7840495 , -5.36301562],\n",
       "       [-5.49838084, -5.90889078,  0.8691852 , -0.13343063, -5.38505821],\n",
       "       [-5.57856818, -3.53399676,  1.78488139, -0.68791828, -4.31387318],\n",
       "       ...,\n",
       "       [-7.80227492, -7.96872184,  8.67916077,  2.43573514,  6.03824737],\n",
       "       [-6.52556926, -4.63197746, -1.37140798, -1.44378031, -4.2971647 ],\n",
       "       [-6.44313586, -4.81906278, -0.24040131, -0.12500645, -3.08410708]])"
      ]
     },
     "execution_count": 5,
     "metadata": {},
     "output_type": "execute_result"
    }
   ],
   "source": [
    "X"
   ]
  },
  {
   "cell_type": "markdown",
   "metadata": {},
   "source": [
    "## Run iRaPCA Clustering\n",
    "Modify the following cell to match the main function or module in this repo. For example, if the main iRaPCA class or function is in `irapca.py`, import and use it below."
   ]
  },
  {
   "cell_type": "code",
   "execution_count": null,
   "metadata": {},
   "outputs": [],
   "source": [
    "# Example usage (replace with actual usage from the repo):\n",
    "# from irapca import iRaPCA\n",
    "\n",
    "# irapca = iRaPCA(n_clusters=4, ...)\n",
    "# labels = irapca.fit_predict(X)\n",
    "\n",
    "# print('Cluster labels:', labels)\n",
    "\n",
    "# If a main script needs command-line args, see the subprocess module below:\n",
    "# import subprocess\n",
    "# subprocess.run(['python', 'irapca_main.py', '--input', 'data.csv', '--clusters', '4'])"
   ]
  },
  {
   "cell_type": "markdown",
   "metadata": {},
   "source": [
    "## Visualize Results\n",
    "You may want to visualize the clustering results if your data is 2D or 3D."
   ]
  },
  {
   "cell_type": "code",
   "execution_count": null,
   "metadata": {},
   "outputs": [],
   "source": [
    "# Example visualization\n",
    "import matplotlib.pyplot as plt\n",
    "from sklearn.decomposition import PCA\n",
    "\n",
    "# Reduce to 2D for visualization\n",
    "pca = PCA(n_components=2)\n",
    "X_2d = pca.fit_transform(X)\n",
    "\n",
    "# Replace 'labels' with the clustering result from iRaPCA\n",
    "# plt.scatter(X_2d[:, 0], X_2d[:, 1], c=labels, cmap='viridis', s=30)\n",
    "# plt.title('iRaPCA Clustering Results')\n",
    "# plt.show()"
   ]
  },
  {
   "cell_type": "raw",
   "metadata": {},
   "source": []
  },
  {
   "cell_type": "code",
   "execution_count": null,
   "metadata": {},
   "outputs": [
    {
     "name": "stdout",
     "output_type": "stream",
     "text": [
      "--------------------------------------------------\n",
      "Number of Molecules: 916\n",
      "==================================================\n",
      "**Standarize molecules**\n",
      "\n",
      "By default iRaPCA will standardize molecules before descriptor calculation. However, you can disable standardization by setting smiles_standardization=False.\n",
      "\n"
     ]
    }
   ],
   "source": [
    "# In a notebook cell\n",
    "%run iRaPCA_v1.0_standalone.py"
   ]
  },
  {
   "cell_type": "code",
   "execution_count": null,
   "metadata": {},
   "outputs": [],
   "source": []
  }
 ],
 "metadata": {
  "kernelspec": {
   "display_name": "Python 3 (ipykernel)",
   "language": "python",
   "name": "python3"
  },
  "language_info": {
   "codemirror_mode": {
    "name": "ipython",
    "version": 3
   },
   "file_extension": ".py",
   "mimetype": "text/x-python",
   "name": "python",
   "nbconvert_exporter": "python",
   "pygments_lexer": "ipython3",
   "version": "3.11.7"
  }
 },
 "nbformat": 4,
 "nbformat_minor": 4
}
