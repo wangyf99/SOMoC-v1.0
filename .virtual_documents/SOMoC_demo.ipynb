


# Install requirements if needed (uncomment if necessary)
!pip install -r requirements.txt


# Import necessary modules
import numpy as np
import pandas as pd
# Add more as needed based on the code in the repo

# If iRaPCA is in a subdirectory, you may need to adjust sys.path
import sys
# sys.path.append('.')  # Adjust if iRaPCA code is in a subfolder





# Example: Create synthetic data
from sklearn.datasets import make_blobs

X, y_true = make_blobs(n_samples=300, centers=4, n_features=5, random_state=42)
print(X.shape)
# Or load your own data
# X = pd.read_csv('your_data.csv').values


X





# Example usage (replace with actual usage from the repo):
# from irapca import iRaPCA

# irapca = iRaPCA(n_clusters=4, ...)
# labels = irapca.fit_predict(X)

# print('Cluster labels:', labels)

# If a main script needs command-line args, see the subprocess module below:
# import subprocess
# subprocess.run(['python', 'irapca_main.py', '--input', 'data.csv', '--clusters', '4'])





# Example visualization
import matplotlib.pyplot as plt
from sklearn.decomposition import PCA

# Reduce to 2D for visualization
pca = PCA(n_components=2)
X_2d = pca.fit_transform(X)

# Replace 'labels' with the clustering result from iRaPCA
# plt.scatter(X_2d[:, 0], X_2d[:, 1], c=labels, cmap='viridis', s=30)
# plt.title('iRaPCA Clustering Results')
# plt.show()





# In a notebook cell
%run SOMoC_v1.0_standalone.py



